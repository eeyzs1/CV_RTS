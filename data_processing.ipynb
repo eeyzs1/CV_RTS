{
 "cells": [
  {
   "cell_type": "code",
   "execution_count": null,
   "id": "e45a8ff4",
   "metadata": {},
   "outputs": [],
   "source": []
  },
  {
   "cell_type": "code",
   "execution_count": null,
   "id": "900295a0",
   "metadata": {},
   "outputs": [],
   "source": [
    "london = 3292.84\n",
    "er = 7.3\n",
    "print(london/31.1035*er)"
   ]
  },
  {
   "cell_type": "code",
   "execution_count": 1,
   "id": "a4f14fba",
   "metadata": {},
   "outputs": [],
   "source": [
    "import json \n",
    "import torch \n",
    "import numpy as np "
   ]
  },
  {
   "cell_type": "code",
   "execution_count": null,
   "id": "beee2f8d",
   "metadata": {},
   "outputs": [],
   "source": [
    "def recursive_to_tensor(obj):\n",
    "    if isinstance(obj, dict):\n",
    "        return {k: recursive_to_tensor(v) for k, v in obj.items()} \n",
    "    elif isinstance(obj, list):\n",
    "        return torch.tensor(obj)   # 直接转为Tensor（避免numpy中间步骤）\n",
    "    return obj"
   ]
  },
  {
   "cell_type": "code",
   "execution_count": 3,
   "id": "6074138f",
   "metadata": {},
   "outputs": [],
   "source": [
    "\n",
    "name = \"./results/cifar_10/org_2.json\"\n",
    "\n",
    "def serializable_to_tensor(obj):\n",
    "    # 检测到列表时尝试转为numpy数组，再转Tensor \n",
    "    if isinstance(obj, list):\n",
    "        return torch.from_numpy(np.array(obj)) \n",
    "    return obj \n",
    " \n",
    "with open(name, 'r', encoding='utf-8') as f:\n",
    "    loaded_data = recursive_to_tensor(json.load(f)) "
   ]
  },
  {
   "cell_type": "code",
   "execution_count": 4,
   "id": "7014ed46",
   "metadata": {},
   "outputs": [
    {
     "name": "stdout",
     "output_type": "stream",
     "text": [
      "{'train': {'loss': tensor([1.8111, 1.1371]), 'acc': tensor([0.4198, 0.5967])}, 'valid': {'loss': tensor([1.3131, 1.0338]), 'acc': tensor([0.5271, 0.6353])}, 'bast_acc': 0.6353}\n"
     ]
    }
   ],
   "source": [
    "print(loaded_data)"
   ]
  },
  {
   "cell_type": "code",
   "execution_count": null,
   "id": "ddcabe78",
   "metadata": {},
   "outputs": [],
   "source": []
  }
 ],
 "metadata": {
  "kernelspec": {
   "display_name": "Python 3",
   "language": "python",
   "name": "python3"
  },
  "language_info": {
   "codemirror_mode": {
    "name": "ipython",
    "version": 3
   },
   "file_extension": ".py",
   "mimetype": "text/x-python",
   "name": "python",
   "nbconvert_exporter": "python",
   "pygments_lexer": "ipython3",
   "version": "3.12.9"
  }
 },
 "nbformat": 4,
 "nbformat_minor": 5
}

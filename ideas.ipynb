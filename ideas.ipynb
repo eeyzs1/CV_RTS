{
 "cells": [
  {
   "cell_type": "code",
   "execution_count": null,
   "metadata": {},
   "outputs": [],
   "source": []
  },
  {
   "cell_type": "code",
   "execution_count": null,
   "metadata": {},
   "outputs": [],
   "source": [
    "import torch \n",
    "import torch.nn  as nn \n",
    "from torchvision import models \n",
    " \n",
    "# 加载预训练ResNet并移除原始第一层 \n",
    "model = models.resnet18(pretrained=True) \n",
    "original_conv1 = model.conv1   # 保存原第一层参数备用 "
   ]
  },
  {
   "cell_type": "code",
   "execution_count": null,
   "metadata": {},
   "outputs": [],
   "source": [
    "# 设计新卷积层（输入通道3→输出通道64，保持空间尺寸）\n",
    "custom_conv = nn.Sequential(\n",
    "    nn.Conv2d(3, 32, kernel_size=3, stride=2, padding=1, bias=False),\n",
    "    nn.BatchNorm2d(32),\n",
    "    nn.ReLU(inplace=True),\n",
    "    nn.Conv2d(32, 64, kernel_size=3, stride=2, padding=1, bias=False)\n",
    ")\n",
    "\n",
    "# conv = nn.Conv2d(3, 64, kernel_size=7, stride=2, padding=3)\n",
    "# dummy_input = torch.randn(1,  3, 224, 224)\n",
    "# print(conv(dummy_input).shape)  # 输出torch.Size([1, 64, 112, 112])"
   ]
  },
  {
   "cell_type": "markdown",
   "metadata": {},
   "source": [
    "参数\t必须保持一致的项目\t检查方法\n",
    "输出通道数\t需与原模型第一层输入通道相同\tprint(original_conv1.in_channels)\n",
    "特征图尺寸\t确保经过自定义层后的尺寸符合要求\t计算(W−K+2P)/S+1\n",
    "W：输入尺寸（宽/高）\n",
    "K：卷积核大小（如3表示3×3卷积）\n",
    "P：填充（padding）像素数\n",
    "S：步长（stride"
   ]
  },
  {
   "cell_type": "code",
   "execution_count": null,
   "metadata": {},
   "outputs": [],
   "source": [
    "# from transformers import ViTModel \n",
    " \n",
    "# # 加载预训练ViT \n",
    "# vit = ViTModel.from_pretrained(\"google/vit-base-patch16-224\") \n",
    " \n",
    "# # 添加CNN特征提取头 \n",
    "# class ViTWithCNN(nn.Module):\n",
    "#     def __init__(self):\n",
    "#         super().__init__()\n",
    "#         self.cnn_head  = nn.Sequential(\n",
    "#             nn.Conv2d(3, 64, kernel_size=7, stride=2, padding=3),\n",
    "#             nn.MaxPool2d(kernel_size=3, stride=2, padding=1)\n",
    "#         )\n",
    "#         self.vit  = vit \n",
    "        \n",
    "#     def forward(self, x):\n",
    "#         x = self.cnn_head(x)   # [B, 64, 56, 56]\n",
    "#         x = x.flatten(2).transpose(1,  2)  # 转换为序列格式 \n",
    "#         return self.vit(inputs_embeds=x).last_hidden_state  \n",
    " \n",
    "# model = ViTWithCNN()"
   ]
  },
  {
   "cell_type": "code",
   "execution_count": null,
   "metadata": {},
   "outputs": [],
   "source": [
    "# 方法1：直接替换（适用于结构简单的模型）\n",
    "model.conv1  = custom_conv \n",
    " \n",
    "# 方法2：构建新模型类（推荐）\n",
    "class CustomResNet(nn.Module):\n",
    "    def __init__(self, original_model):\n",
    "        super().__init__()\n",
    "        self.custom_head  = custom_conv \n",
    "        self.backbone  = nn.Sequential(*list(original_model.children())[1:]) \n",
    "        \n",
    "    def forward(self, x):\n",
    "        x = self.custom_head(x) \n",
    "        return self.backbone(x) \n",
    " \n",
    "model = CustomResNet(model)"
   ]
  },
  {
   "cell_type": "code",
   "execution_count": null,
   "metadata": {},
   "outputs": [],
   "source": [
    "import torch \n",
    "import torch.nn  as nn \n",
    "import torch.nn.functional  as F \n",
    " \n",
    "class FixedDualConv(nn.Module):\n",
    "    def __init__(self, kernel1, kernel2):\n",
    "        super().__init__()\n",
    "        # 转换为PyTorch张量并冻结梯度 \n",
    "        self.register_buffer('kernel1',  torch.tensor(kernel1,  dtype=torch.float32)) \n",
    "        self.register_buffer('kernel2',  torch.tensor(kernel2,  dtype=torch.float32)) \n",
    "        \n",
    "        # 自动推导卷积参数 \n",
    "        self.in_channels  = self.kernel1.size(1) \n",
    "        self.out_channels  = self.kernel1.size(0)  + self.kernel2.size(0) \n",
    "        \n",
    "    def forward(self, x):\n",
    "        # 手动卷积计算（避免自动求导）\n",
    "        with torch.no_grad(): \n",
    "            # 扩展维度匹配卷积要求 [out_c, in_c, H, W]\n",
    "            k1 = self.kernel1.unsqueeze(-1).unsqueeze(-1) \n",
    "            k2 = self.kernel2.unsqueeze(-1).unsqueeze(-1) \n",
    "            \n",
    "            # 分离计算各通道 \n",
    "            conv1 = F.conv2d(x,  k1, padding='same')\n",
    "            conv2 = F.conv2d(x,  k2, padding='same')\n",
    "            \n",
    "        return torch.cat([conv1,  conv2], dim=1)\n",
    "\n",
    "# 用户自定义卷积核（示例：边缘检测+模糊核）\n",
    "edge_kernel = [\n",
    "    [[-1, -1, -1],  # 输出通道1 \n",
    "     [-1,  8, -1],\n",
    "     [-1, -1, -1]],\n",
    "    \n",
    "    [[ 0,  0,  0],  # 输出通道2 \n",
    "     [ 0,  1,  0],\n",
    "     [ 0,  0,  0]]\n",
    "]  # shape: (2, 1, 3, 3)\n",
    " \n",
    "blur_kernel = [\n",
    "    [[1, 2, 1],     # 输出通道1 \n",
    "     [2, 4, 2],\n",
    "     [1, 2, 1]]\n",
    "]  # shape: (1, 1, 3, 3)\n",
    " \n",
    "# 初始化预处理层 \n",
    "fixed_conv = FixedDualConv(edge_kernel, blur_kernel).eval()  # eval模式确保不计算梯度 \n",
    " \n",
    "# 应用到输入数据 \n",
    "dummy_input = torch.randn(1,  1, 28, 28)  # 假设是MNIST数据 \n",
    "processed = fixed_conv(dummy_input)  # 输出shape: [1, 3, 28, 28] \n"
   ]
  },
  {
   "cell_type": "code",
   "execution_count": null,
   "metadata": {},
   "outputs": [],
   "source": [
    "\n",
    "# 自定义层初始化（保持方差一致）\n",
    "nn.init.kaiming_normal_(custom_conv[0].weight,  mode='fan_out', nonlinearity='relu')\n",
    "nn.init.constant_(custom_conv[1].weight,  1)\n",
    "nn.init.constant_(custom_conv[1].bias,  0)\n",
    "# 分层设置学习率（新卷积层用更大学习率）\n",
    "optimizer = torch.optim.SGD([ \n",
    "    {'params': model.custom_head.parameters(),  'lr': 1e-3}, \n",
    "    {'params': model.backbone.parameters(),  'lr': 1e-4}\n",
    "], momentum=0.9)"
   ]
  },
  {
   "cell_type": "code",
   "execution_count": null,
   "metadata": {},
   "outputs": [],
   "source": [
    "model = torch.compile(model,  mode='max-autotune')"
   ]
  }
 ],
 "metadata": {
  "language_info": {
   "name": "python"
  }
 },
 "nbformat": 4,
 "nbformat_minor": 2
}
